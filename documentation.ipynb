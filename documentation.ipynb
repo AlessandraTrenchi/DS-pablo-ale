Data Processing and Querying Software Documentation

In this comprehensive guide, we will provide you with a detailed overview of our software solution designed to address the challenges of processing data stored in different formats and simultaneously querying two distinct types of databases: a Graph Database and a Relational Database.

Project Overview:
In today's data-driven world, organizations and individuals often find themselves dealing with data in various formats, ranging from structured CSV files to complex JSON documents. Managing and extracting valuable insights from this diverse data can be a complex task. Our software aims to simplify this process by offering a unified platform for data ingestion, processing, and querying, while accommodating both graph and relational databases.

Objective:
The primary objective of this project is to develop a robust and user-friendly software tool that enables users to:

Ingest data from different formats: JSON and CSV.
Store the processed data in two distinct types of databases:
Graph Database: Managed by the Graph Data Processor and queried using the Graph Query Processor.
Relational Database: Managed by the Relational Data Processor and queried using the Relational Query Processor.
Query these databases simultaneously using predefined operations.
Provide users with the ability to manipulate and query data using dataframes for additional flexibility.

Building a Relational Database
Now that we have stated the purpose of our software and the type of data it is the step of building a ERD: Entity-Relationship Diagram based on the UML provided by the Course of Data Science 2021/2022 by professor Silvio Peroni.
This is the structure for the tables of my relational database:

Person:
Attributes:
givenName (string, required)
familyName (string, required)
Relationships:
IdentifiableEntity (1-to-many)

Publication:
Attributes:
publicationYear (integer, optional)
title (string, required)
Relationships:
cites (self-referencing, many-to-many)
author (many-to-many with Person)
publicationVenue (0 or 1-to-1 with Venue)
IdentifiableEntity (1-to-1)

Venue:
Attributes:
title (string, required)
Relationships:
organization (1-to-1 with Organization)
IdentifiableEntity (1-to-1)

Organization:
Attributes:
name (string, required)
Relationships:
publisher (1-to-1 with IdentifiableEntity)

JournalArticle:
Attributes:
issue (string, optional)
volume (string, optional)
Relationships:
Publication (1-to-1)

BookChapter:
Attributes:
chapterNumber (integer, required)
Relationships:
Publication (1-to-1)

ProceedingsPaper:
Relationships:
Publication (1-to-1)


Relationships: Person to IdentifiableEntity:

A person is associated with an identifiable entity through a 1-to-many relationship.
Publication to IdentifiableEntity:

Each publication is associated with an identifiable entity through a 1-to-1 relationship.
Publication to Publication (cites):

Publications can have a many-to-many relationship with themselves (self-referencing) to represent citations.
Publication to Person (author):

Publications have a many-to-many relationship with persons to represent authors.
Publication to Venue (publicationVenue):

Publications can be associated with a venue through a 0 or 1-to-1 relationship.
Venue to Organization (organization):

Venues are associated with organizations through a 1-to-1 relationship.
Organization to IdentifiableEntity (publisher):

Organizations are associated with identifiable entities through a 1-to-1 relationship.

Adding methods to my classes in the Application code (outside of SQL) in order to retrieve and manipulate data from the database as shown in the UML model. 
1. Define Classes in Python (corresponding to the UML model).
2.